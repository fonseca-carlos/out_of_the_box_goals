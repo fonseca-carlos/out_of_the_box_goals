{
 "cells": [
  {
   "cell_type": "code",
   "execution_count": 1,
   "source": [
    "#imports\r\n",
    "\r\n",
    "import pandas as pd\r\n",
    "import numpy as np\r\n",
    "import matplotlib.pyplot as plt"
   ],
   "outputs": [],
   "metadata": {}
  },
  {
   "cell_type": "code",
   "execution_count": 2,
   "source": [
    "shots=pd.read_csv('nba_shotchartdetail_2018-19.csv')\r\n",
    "shots=shots[['PLAYER_NAME', 'SHOT_TYPE', 'SHOT_DISTANCE', 'SHOT_ATTEMPTED_FLAG', 'SHOT_MADE_FLAG']]"
   ],
   "outputs": [],
   "metadata": {}
  },
  {
   "cell_type": "code",
   "execution_count": 5,
   "source": [
    "shots['SHOT_DISTANCE']=[round(x/2,0)*2 for x in shots['SHOT_DISTANCE']]\r\n",
    "group=shots[shots['PLAYER_NAME']=='Stephen Curry'].groupby(['SHOT_TYPE', 'SHOT_DISTANCE'])['SHOT_MADE_FLAG'].agg(['sum','size']).reset_index()\r\n",
    "group['%']=group['sum']/group['size']\r\n"
   ],
   "outputs": [],
   "metadata": {}
  },
  {
   "cell_type": "code",
   "execution_count": 6,
   "source": [
    "%matplotlib\r\n",
    "\r\n",
    "plt.plot(group[group['SHOT_TYPE']=='2PT Field Goal']['SHOT_DISTANCE'], group[group['SHOT_TYPE']=='2PT Field Goal']['%'], label='2pt')\r\n",
    "plt.plot(group[group['SHOT_TYPE']=='3PT Field Goal']['SHOT_DISTANCE'], group[group['SHOT_TYPE']=='3PT Field Goal']['%'], label='3pt')\r\n",
    "\r\n",
    "plt.xlim(0,34)\r\n",
    "plt.xlabel('Distance')\r\n",
    "plt.ylabel('FG%')\r\n",
    "plt.legend()\r\n",
    "plt.show()"
   ],
   "outputs": [
    {
     "output_type": "stream",
     "name": "stdout",
     "text": [
      "Using matplotlib backend: TkAgg\n"
     ]
    }
   ],
   "metadata": {}
  },
  {
   "cell_type": "code",
   "execution_count": 5,
   "source": [
    "group[group['SHOT_TYPE']=='3PT Field Goal']['SHOT_DISTANCE']"
   ],
   "outputs": [
    {
     "output_type": "execute_result",
     "data": {
      "text/plain": [
       "24    22\n",
       "25    23\n",
       "26    24\n",
       "27    25\n",
       "28    26\n",
       "29    27\n",
       "30    28\n",
       "31    29\n",
       "32    30\n",
       "33    31\n",
       "34    32\n",
       "35    33\n",
       "36    34\n",
       "37    35\n",
       "38    37\n",
       "39    38\n",
       "40    41\n",
       "41    45\n",
       "42    47\n",
       "43    48\n",
       "44    49\n",
       "45    53\n",
       "46    54\n",
       "47    58\n",
       "48    60\n",
       "49    61\n",
       "50    65\n",
       "51    71\n",
       "Name: SHOT_DISTANCE, dtype: int64"
      ]
     },
     "metadata": {},
     "execution_count": 5
    }
   ],
   "metadata": {}
  }
 ],
 "metadata": {
  "orig_nbformat": 4,
  "language_info": {
   "name": "python"
  }
 },
 "nbformat": 4,
 "nbformat_minor": 2
}