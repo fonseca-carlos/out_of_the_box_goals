{
 "cells": [
  {
   "cell_type": "code",
   "execution_count": 2,
   "source": [
    "#imports\r\n",
    "\r\n",
    "import pandas as pd\r\n",
    "import numpy as np\r\n",
    "import matplotlib.pyplot as plt"
   ],
   "outputs": [],
   "metadata": {}
  },
  {
   "cell_type": "code",
   "execution_count": 17,
   "source": [
    "for country in ['eng', 'fra', 'ger', 'ita', 'spa']:\r\n",
    "    shots_temp=pd.read_csv(country+'_shots.csv')\r\n",
    "    if country=='eng':\r\n",
    "        shots=shots_temp.copy()\r\n",
    "    else:\r\n",
    "        shots=pd.concat([shots, shots_temp], axis=0)\r\n",
    "shots.shape"
   ],
   "outputs": [
    {
     "output_type": "execute_result",
     "data": {
      "text/plain": [
       "(40461, 4)"
      ]
     },
     "metadata": {},
     "execution_count": 17
    }
   ],
   "metadata": {}
  },
  {
   "cell_type": "code",
   "execution_count": 19,
   "source": [
    "%matplotlib\r\n",
    "fg=shots.copy()\r\n",
    "fg['distance']=[round(x/2,0)*2 for x in fg['distance']]\r\n",
    "fg_box=fg[fg['box']==1].groupby('distance')['goal'].agg(['sum', 'size'])\r\n",
    "fg_box['fg']=fg_box['sum']/fg_box['size']\r\n",
    "fg_nobox=fg[fg['box']==0].groupby('distance')['goal'].agg(['sum', 'size'])\r\n",
    "fg_nobox['fg']=fg_nobox['sum']/fg_nobox['size']\r\n",
    "\r\n",
    "\r\n",
    "plt.plot(fg_box.index, fg_box['fg'], label='Inside The Box')\r\n",
    "plt.plot(fg_nobox.index, fg_nobox['fg'], label='Outside The Box')\r\n",
    "plt.xlim([1, 50])\r\n",
    "\r\n",
    "\r\n",
    "\r\n",
    "plt.xlabel('Goal Distance')\r\n",
    "plt.ylabel('Goal %')\r\n",
    "plt.legend()\r\n",
    "plt.show()"
   ],
   "outputs": [
    {
     "output_type": "stream",
     "name": "stdout",
     "text": [
      "Using matplotlib backend: TkAgg\n"
     ]
    }
   ],
   "metadata": {}
  },
  {
   "cell_type": "code",
   "execution_count": 21,
   "source": [
    "fg_box"
   ],
   "outputs": [
    {
     "output_type": "execute_result",
     "data": {
      "text/html": [
       "<div>\n",
       "<style scoped>\n",
       "    .dataframe tbody tr th:only-of-type {\n",
       "        vertical-align: middle;\n",
       "    }\n",
       "\n",
       "    .dataframe tbody tr th {\n",
       "        vertical-align: top;\n",
       "    }\n",
       "\n",
       "    .dataframe thead th {\n",
       "        text-align: right;\n",
       "    }\n",
       "</style>\n",
       "<table border=\"1\" class=\"dataframe\">\n",
       "  <thead>\n",
       "    <tr style=\"text-align: right;\">\n",
       "      <th></th>\n",
       "      <th>sum</th>\n",
       "      <th>size</th>\n",
       "      <th>fg</th>\n",
       "    </tr>\n",
       "    <tr>\n",
       "      <th>distance</th>\n",
       "      <th></th>\n",
       "      <th></th>\n",
       "      <th></th>\n",
       "    </tr>\n",
       "  </thead>\n",
       "  <tbody>\n",
       "    <tr>\n",
       "      <th>0.0</th>\n",
       "      <td>1</td>\n",
       "      <td>1</td>\n",
       "      <td>1.000000</td>\n",
       "    </tr>\n",
       "    <tr>\n",
       "      <th>2.0</th>\n",
       "      <td>91</td>\n",
       "      <td>120</td>\n",
       "      <td>0.758333</td>\n",
       "    </tr>\n",
       "    <tr>\n",
       "      <th>4.0</th>\n",
       "      <td>302</td>\n",
       "      <td>515</td>\n",
       "      <td>0.586408</td>\n",
       "    </tr>\n",
       "    <tr>\n",
       "      <th>6.0</th>\n",
       "      <td>509</td>\n",
       "      <td>1440</td>\n",
       "      <td>0.353472</td>\n",
       "    </tr>\n",
       "    <tr>\n",
       "      <th>8.0</th>\n",
       "      <td>580</td>\n",
       "      <td>2358</td>\n",
       "      <td>0.245971</td>\n",
       "    </tr>\n",
       "    <tr>\n",
       "      <th>10.0</th>\n",
       "      <td>560</td>\n",
       "      <td>3224</td>\n",
       "      <td>0.173697</td>\n",
       "    </tr>\n",
       "    <tr>\n",
       "      <th>12.0</th>\n",
       "      <td>546</td>\n",
       "      <td>4080</td>\n",
       "      <td>0.133824</td>\n",
       "    </tr>\n",
       "    <tr>\n",
       "      <th>14.0</th>\n",
       "      <td>548</td>\n",
       "      <td>4564</td>\n",
       "      <td>0.120070</td>\n",
       "    </tr>\n",
       "    <tr>\n",
       "      <th>16.0</th>\n",
       "      <td>366</td>\n",
       "      <td>3677</td>\n",
       "      <td>0.099538</td>\n",
       "    </tr>\n",
       "    <tr>\n",
       "      <th>18.0</th>\n",
       "      <td>175</td>\n",
       "      <td>2534</td>\n",
       "      <td>0.069061</td>\n",
       "    </tr>\n",
       "    <tr>\n",
       "      <th>20.0</th>\n",
       "      <td>48</td>\n",
       "      <td>1167</td>\n",
       "      <td>0.041131</td>\n",
       "    </tr>\n",
       "    <tr>\n",
       "      <th>22.0</th>\n",
       "      <td>11</td>\n",
       "      <td>315</td>\n",
       "      <td>0.034921</td>\n",
       "    </tr>\n",
       "    <tr>\n",
       "      <th>24.0</th>\n",
       "      <td>0</td>\n",
       "      <td>14</td>\n",
       "      <td>0.000000</td>\n",
       "    </tr>\n",
       "  </tbody>\n",
       "</table>\n",
       "</div>"
      ],
      "text/plain": [
       "          sum  size        fg\n",
       "distance                     \n",
       "0.0         1     1  1.000000\n",
       "2.0        91   120  0.758333\n",
       "4.0       302   515  0.586408\n",
       "6.0       509  1440  0.353472\n",
       "8.0       580  2358  0.245971\n",
       "10.0      560  3224  0.173697\n",
       "12.0      546  4080  0.133824\n",
       "14.0      548  4564  0.120070\n",
       "16.0      366  3677  0.099538\n",
       "18.0      175  2534  0.069061\n",
       "20.0       48  1167  0.041131\n",
       "22.0       11   315  0.034921\n",
       "24.0        0    14  0.000000"
      ]
     },
     "metadata": {},
     "execution_count": 21
    }
   ],
   "metadata": {}
  }
 ],
 "metadata": {
  "orig_nbformat": 4,
  "language_info": {
   "name": "python"
  }
 },
 "nbformat": 4,
 "nbformat_minor": 2
}